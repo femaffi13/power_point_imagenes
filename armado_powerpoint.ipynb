{
 "cells": [
  {
   "cell_type": "code",
   "execution_count": 29,
   "metadata": {},
   "outputs": [],
   "source": [
    "from datetime import datetime\n",
    "from pptx import Presentation\n",
    "from pptx.util import Inches\n",
    "import os"
   ]
  },
  {
   "cell_type": "code",
   "execution_count": null,
   "metadata": {},
   "outputs": [],
   "source": [
    "nombre_presentacion = ''"
   ]
  },
  {
   "cell_type": "code",
   "execution_count": 30,
   "metadata": {},
   "outputs": [
    {
     "name": "stdout",
     "output_type": "stream",
     "text": [
      "['Screenshot_20240616_203255_Samsung Internet.jpg', 'Screenshot_20240616_203338_Samsung Internet.jpg', 'Screenshot_20240616_203551_Samsung Internet.jpg', 'Screenshot_20240616_203718_Samsung Internet.jpg', 'Screenshot_20240616_203912_Samsung Internet.jpg']\n"
     ]
    }
   ],
   "source": [
    "# Ruta a la carpeta que contiene las imágenes\n",
    "image_folder = 'imagenes'\n",
    "\n",
    "# Obtener lista de archivos en la carpeta con su fecha de modificación\n",
    "image_files_with_dates = []\n",
    "for f in os.listdir(image_folder):\n",
    "    if f.lower().endswith(('png', 'jpg', 'jpeg', 'bmp', 'gif')):\n",
    "        file_path = os.path.join(image_folder, f)\n",
    "        modification_time = os.path.getmtime(file_path)\n",
    "        # Convertir el tiempo de modificación a una fecha (sin hora)\n",
    "        modification_date = datetime.fromtimestamp(modification_time).date()\n",
    "        image_files_with_dates.append((f, modification_date))\n",
    "\n",
    "# Ordenar los archivos por fecha (de más antigua a más reciente)\n",
    "image_files_with_dates.sort(key=lambda x: x[1])\n",
    "\n",
    "# Crear una lista solo con los nombres de los archivos ordenados\n",
    "image_files = [f[0] for f in image_files_with_dates]\n",
    "print(image_files)\n",
    "\n",
    "prs = Presentation()\n",
    "\n",
    "# Añadir una diapositiva por cada imagen\n",
    "for image_file in image_files:\n",
    "    image_path = os.path.join(image_folder, image_file)\n",
    "    \n",
    "    # Añadir una diapositiva en blanco\n",
    "    slide_layout = prs.slide_layouts[6]  # 6 corresponde a una diapositiva vacía\n",
    "    slide = prs.slides.add_slide(slide_layout)\n",
    "    \n",
    "    # Añadir la imagen a la diapositiva\n",
    "    top = Inches(0.75)\n",
    "    left = Inches(0.25)\n",
    "    pic = slide.shapes.add_picture(image_path, left, top, width=Inches(9.5), height=Inches(6))\n",
    "\n",
    "# Guardar la presentación en un archivo\n",
    "prs.save(f'{nombre_presentacion}.pptx')\n",
    "print(\"Presentación guardada como 'presentacion.pptx'\")"
   ]
  }
 ],
 "metadata": {
  "kernelspec": {
   "display_name": ".env",
   "language": "python",
   "name": "python3"
  },
  "language_info": {
   "codemirror_mode": {
    "name": "ipython",
    "version": 3
   },
   "file_extension": ".py",
   "mimetype": "text/x-python",
   "name": "python",
   "nbconvert_exporter": "python",
   "pygments_lexer": "ipython3",
   "version": "3.11.0"
  }
 },
 "nbformat": 4,
 "nbformat_minor": 2
}
